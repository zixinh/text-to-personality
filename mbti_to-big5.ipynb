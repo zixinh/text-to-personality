{
 "cells": [
  {
   "cell_type": "code",
   "execution_count": 9,
   "metadata": {},
   "outputs": [],
   "source": [
    "import numpy as np\n",
    "import pandas as pd\n",
    "import pickle\n"
   ]
  },
  {
   "cell_type": "code",
   "execution_count": 25,
   "metadata": {
    "scrolled": true
   },
   "outputs": [
    {
     "name": "stdout",
     "output_type": "stream",
     "text": [
      "(8675, 7)\n",
      "   #  type conscieniousness    agreeable extraversion  neuroticism  \\\n",
      "0  0  INFJ      50.22031973  57.71273046   20.2788891  85.88187978   \n",
      "1  1  ENTP      37.61441377  53.04986179   19.2923702  97.24779521   \n",
      "2  2  INTP      55.88302211  62.36175274  33.68039782  77.35532718   \n",
      "3  3  INTJ      21.39582754    70.408671  56.05826003  89.56679917   \n",
      "4  4  ENTJ       15.7368388  47.37946064   55.7772194  96.28591317   \n",
      "\n",
      "      openness  \n",
      "0  75.60278174  \n",
      "1   76.6872109  \n",
      "2  73.16256345  \n",
      "3  72.92137874  \n",
      "4  69.24075453  \n",
      "#                             2\n",
      "type                       INTP\n",
      "conscieniousness    55.88302211\n",
      "agreeable           62.36175274\n",
      "extraversion        33.68039782\n",
      "neuroticism         77.35532718\n",
      "openness            73.16256345\n",
      "Name: 2, dtype: object\n"
     ]
    }
   ],
   "source": [
    "text = pd.read_csv(\"../dataset/mbti_big5_clean.csv\", error_bad_lines = False)\n",
    "print(text.shape)\n",
    "print(text[0:5])\n",
    "print(text.iloc[2])"
   ]
  },
  {
   "cell_type": "code",
   "execution_count": 23,
   "metadata": {
    "scrolled": false
   },
   "outputs": [
    {
     "name": "stdout",
     "output_type": "stream",
     "text": [
      "|type|posts|rr|active|adjustment|adventurous|aggressive|agreeableness|ambitious|anxious|artistic|assertive|body_focus|cautious|cheerful|cold|conscientiousness|cooperative|depression|disciplined|dutiful|emotionally_aware|empathetic|energetic|extraversion|family_oriented|food_focus|friend_focus|friendly|generous|genuine|happiness|health_oriented|humble|imaginative|impulsive|independent|insecure|intellectual|leisure_oriented|liberal|melancholy|money_oriented|netspeak_focus|neuroticism|openness|organized|persuasive|power_driven|religion_oriented|reward_bias|self_assured|self_conscious|sexual_focus|sociable|social_skills|stressed|thinking_style|trusting|type_a|work_oriented|workhorse     \"\"method\"\": \"\"GET\"\"}}}\"|-4.3743249254|-4.5728...\n",
      "Name: (1|ENTP|\"'I'm finding the lack of me in these posts very alarming.|||Sex can be boring if it's in the same position often. For example me and my girlfriend are currently in an environment where we have to creatively use cowgirl and missionary. There isn't enough...|||Giving new meaning to 'Game' theory.|||Hello *ENTP Grin*  That's all it takes. Than we converse and they do most of the flirting while I acknowledge their presence and return their words with smooth wordplay and more cheeky grins.|||This + Lack of Balance and Hand Eye Coordination.|||Real IQ test I score 127. Internet IQ tests are funny. I score 140s or higher.  Now,  like the former responses of this thread I will mention that I don't believe in the IQ test. Before you banish...|||You know you're an ENTP when you vanish from a site for a year and a half,  return,  and find people are still commenting on your posts and liking your ideas/thoughts. You know you're an ENTP when you...|||http://img188.imageshack.us/img188/6422/6020d1f9da6944a6b71bbe6.jpg|||http://img.adultdvdtalk.com/813a0c6243814cab84c51|||I over think things sometimes. I go by the old Sherlock Holmes quote.  Perhaps,  when a man has special knowledge and special powers like my  own,  it rather encourages him to seek a complex...|||cheshirewolf.tumblr.com  So is I :D|||400, 000+  post|||Not really; I've never thought of E/I or J/P as real functions.  I judge myself on what I use. I use Ne and Ti as my dominates. Fe for emotions and rarely Si. I also use Ni due to me strength...|||You know though. That was ingenious. After saying it I really want to try it and see what happens with me playing a first person shooter in the back while we drive around. I want to see the look on...|||out of all of them the rock paper one is the best. It makes me lol.  You guys are lucky :D I'm really high up on the tumblr system.|||So did you hear about that new first person shooter game? I've been rocking the hell out of the soundtrack on my auto sound equipment that will shake the heavens. We managed to put a couple PS3's in...|||No; The way he connected things was very Ne. Ne dominates are just as aware of their environments as Se dominates.  Example: Shawn Spencer or Patrick Jane; Both ENTPs.|||Well charlie I will be the first to admit I do get jealous like you do. I chalk it up to my 4w3 heart mixed with my dominate 7w8. 7s and 8s both like to be noticed. 4's like to be known (not the same...|||;D I'll upload the same clip with the mic away from my mouth. Than you won't hear anything.  Ninja Assassin style but with splatter.|||Tik Tok is a really great song. As long as you can mental block out the singer. I love the beat it makes me bounce.|||drop.io v1swck0  :D Mic really close to my mouth and smokin aces: assassins ball playing in the background.|||Sociable =/= extrovert; I'm an extrovert and I'm not sociable. :)|||Sherlock in the movie was an ENTP. Normally he's played as a EXTJ. In the books he's an ESTJ.  As I said. The movie looked good except for it being called sherlock holmes.|||http://i817.photobucket.com/albums/zz96/kamioo/Dirtywinch.png|||Oh,  I never had fear of kissing a guy. I will kiss an animal too. So there was nothing to vanish. Just personal taste and me not liking it.  The guy I kissed didn't know me. It was one of those...|||Sounds pretty much like my area and what I'm going through right now trying to figure out which way I want to take my life. I want to do so many things. The biggest problem is that I know if I don't...|||;D I was operating under the impression that you were female. I never looked at your boxy. Okay,  I help out my gay friends all the time and one of them has developed a little crush on me. I get red...|||T_T You just described me  and I'm living the worst nightmare. I'm trapped in one place with one one around. Only dull woods. If I was a serial killer this would be the perfect place but sadly I'm...|||TBH,  and biased,  sounds like a shadowed INFP. I think maybe he was hurt and turned ESTJ. I can tell because he has some of the typical INFP traits left over.|||*Checks list* I'm sorry. It seems that you have came at a bad time. We've already reached our quota of INFJs. However,  being you're female and I like females I will make you a deal. I will kick one...|||I'm ANTP (Leaning toward E). I'm easy for both ENTPs and INTPs to identify with. :)|||I also imagine ENTP's interrogations would go a little bit like Jack's from 24 except more mechanical. Rigging up shock treatment equipment in an abandoned building out of an old car batty,  jumper...|||It was a compliment :) Trust me. I'm just as psychopathic :D except I have emoticons. They're just weird ones. Like laughing when I get hurt or at people running themselves over with their lawn mower...|||http://i817.photobucket.com/albums/zz96/kamioo/Thunderstorm.pnghttp://i817.photobucket.com/albums/zz96/kamioo/Thunderstormbw.png http://i817.photobucket.com/albums/zz96/kamioo/Cosmicstorm.png|||No. It's like a theme for where I live and that is why I know it by heart.   http://www.youtube.com/watch?v=j5W73HaVQBg|||and I usual don't leave until the thing ends. But in the mean time. In between times. You work your thing. I'll work mine :D  ;D I'm the MBP; Pleasure to meet you.|||Damn,  need to trust my instincts more I would have been closer I was going to say INFP.|||EXFP? Leaning toward S with the way she responded.  :D My friends,  even my gay and lesbian ones,  always come to me for advice.|||I bow to my entp masters ENTPs are so great. If it wasn't for ENTPs I wouldn't have been able to build what I'm building  Duck Duck  Duck  Shotgun|||What? Me? I never do that >.> <.<|||Because its hard to be sad about losing someone you like when you knew you were right and give yourself a big pat on the back because you're awesome and always correct.|||Oh,  you don't have to tell me that most of them are stupid. I know this. That is why I play with them and it makes me laugh. :D As I'm going to take Neuropsychology and I have a few psychologist...|||:D I'm a Nightowl. I wake up between 6-7pm and stay awake till 10-11:30am.|||Personal opinion backed by theory would suggest that INTPs are the most socially difficult. While INTJs can be socially indifferent but they will also use social situations if the the need arises....|||Personal stocks that I have on my desktop that I've downloaded from random stock sites and stock photobuckets.|||I'll tell you when I open photoshop.  :) Glad you like it static.|||:D Thanks.|||http://i817.photobucket.com/albums/zz96/kamioo/Deathgrip.png http://i817.photobucket.com/albums/zz96/kamioo/Deathgripbw.png  Made for a friend. Several hours of work. I constructed every line by...|||:) Static: http://i817.photobucket.com/albums/zz96/kamioo/Statickitten.png  I'll have to get to your avatar later if one of my fellow teammates doesn't.|||Psychologist don't keep me around long enough to diagnosis me. I like to toy with them. What I have diagnosis myself with and had a few psychologist friends (+ a few other friends) tell me I have is...'\"|\"{\"\"_id\"\": \"\"59dafc5a0ea2370582918ff9\"\",  \"\"created\"\": \"\"2017-10-09T04:34:34.386000+00:00\"\",  \"\"updated\"\": \"\"2017-12-02T05:03:52.482324+00:00\"\",  \"\"custom_fields\"\": {},  \"\"content_handle\"\": \"\"1\"\",  \"\"content_source\"\": 1,  \"\"liwc_scores\"\": {\"\"tone\"\": 60.207798,  \"\"sixLtr\"\": 0.13247539,  \"\"clout\"\": 44.892387,  \"\"wps\"\": 16.109756,  \"\"analytic\"\": 46.280952,  \"\"wc\"\": 1321,  \"\"dic\"\": 0.8001514,  \"\"authentic\"\": 60.260693,  \"\"categories\"\": {\"\"family\"\": 0.0,  \"\"feel\"\": 0.0037850114,  \"\"money\"\": 0.0007570023,  \"\"insight\"\": 0.02346707,  \"\"number\"\": 0.018925056,  \"\"Parenth\"\": 0.0037850114,  \"\"cogproc\"\": 0.09689629,  \"\"OtherP\"\": 0.15821348,  \"\"female\"\": 0.0045420136,  \"\"negate\"\": 0.01665405,  \"\"negemo\"\": 0.021196064,  \"\"differ\"\": 0.026495079,  \"\"death\"\": 0.0037850114,  \"\"adverb\"\": 0.04390613,  \"\"informal\"\": 0.024981074,  \"\"ipron\"\": 0.041635126,  \"\"percept\"\": 0.021953065,  \"\"quant\"\": 0.01665405,  \"\"Exclam\"\": 0.0,  \"\"adj\"\": 0.054504164,  \"\"prep\"\": 0.11733535,  \"\"friend\"\": 0.0075700227,  \"\"function\"\": 0.5018925,  \"\"bio\"\": 0.015897047,  \"\"risk\"\": 0.0075700227,  \"\"leisure\"\": 0.014383043,  \"\"Quote\"\": 0.0,  \"\"verb\"\": 0.16199848,  \"\"hear\"\": 0.010598032,  \"\"they\"\": 0.009084027,  \"\"affect\"\": 0.06358819,  \"\"you\"\": 0.024981074,  \"\"work\"\": 0.015897047,  \"\"Period\"\": 0.14231643,  \"\"achieve\"\": 0.012869039,  \"\"focusfuture\"\": 0.011355034,  \"\"auxverb\"\": 0.091597274,  \"\"male\"\": 0.008327025,  \"\"shehe\"\": 0.005299016,  \"\"SemiC\"\": 0.006056018,  \"\"relig\"\": 0.0022710068,  \"\"compare\"\": 0.03028009,  \"\"pronoun\"\": 0.17638153,  \"\"QMark\"\": 0.0037850114,  \"\"certain\"\": 0.0098410295,  \"\"assent\"\": 0.0015140045,  \"\"we\"\": 0.005299016,  \"\"sad\"\": 0.006056018,  \"\"affiliation\"\": 0.024224073,  \"\"see\"\": 0.0068130204,  \"\"anger\"\": 0.0068130204,  \"\"home\"\": 0.0,  \"\"conj\"\": 0.062074184,  \"\"sexual\"\": 0.003028009,  \"\"ppron\"\": 0.1347464,  \"\"Dash\"\": 0.0015140045,  \"\"space\"\": 0.059046175,  \"\"filler\"\": 0.0,  \"\"anx\"\": 0.0022710068,  \"\"focuspresent\"\": 0.11960636,  \"\"netspeak\"\": 0.014383043,  \"\"health\"\": 0.0045420136,  \"\"discrep\"\": 0.01665405,  \"\"relativ\"\": 0.107494324,  \"\"Colon\"\": 0.0098410295,  \"\"nonflu\"\": 0.0075700227,  \"\"cause\"\": 0.012112036,  \"\"body\"\": 0.006056018,  \"\"tentat\"\": 0.021953065,  \"\"power\"\": 0.018925056, ...), dtype: object\n"
     ]
    }
   ],
   "source": [
    "print(text.iloc[1])"
   ]
  },
  {
   "cell_type": "code",
   "execution_count": null,
   "metadata": {
    "collapsed": true
   },
   "outputs": [],
   "source": []
  }
 ],
 "metadata": {
  "kernelspec": {
   "display_name": "Python 3",
   "language": "python",
   "name": "python3"
  },
  "language_info": {
   "codemirror_mode": {
    "name": "ipython",
    "version": 3
   },
   "file_extension": ".py",
   "mimetype": "text/x-python",
   "name": "python",
   "nbconvert_exporter": "python",
   "pygments_lexer": "ipython3",
   "version": "3.6.1"
  }
 },
 "nbformat": 4,
 "nbformat_minor": 2
}
