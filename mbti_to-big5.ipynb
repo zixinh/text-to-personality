{
 "cells": [
  {
   "cell_type": "code",
   "execution_count": 1,
   "metadata": {
    "collapsed": true
   },
   "outputs": [],
   "source": [
    "import numpy as np\n",
    "import pandas as pd\n",
    "import pickle\n",
    "import sklearn\n",
    "import matplotlib.pyplot as plt"
   ]
  },
  {
   "cell_type": "code",
   "execution_count": 8,
   "metadata": {},
   "outputs": [
    {
     "name": "stdout",
     "output_type": "stream",
     "text": [
      "(8672, 6)\n"
     ]
    },
    {
     "data": {
      "text/html": [
       "<div>\n",
       "<style scoped>\n",
       "    .dataframe tbody tr th:only-of-type {\n",
       "        vertical-align: middle;\n",
       "    }\n",
       "\n",
       "    .dataframe tbody tr th {\n",
       "        vertical-align: top;\n",
       "    }\n",
       "\n",
       "    .dataframe thead th {\n",
       "        text-align: right;\n",
       "    }\n",
       "</style>\n",
       "<table border=\"1\" class=\"dataframe\">\n",
       "  <thead>\n",
       "    <tr style=\"text-align: right;\">\n",
       "      <th></th>\n",
       "      <th>type</th>\n",
       "      <th>conscieniousness</th>\n",
       "      <th>agreeable</th>\n",
       "      <th>extraversion</th>\n",
       "      <th>neuroticism</th>\n",
       "      <th>openness</th>\n",
       "    </tr>\n",
       "  </thead>\n",
       "  <tbody>\n",
       "    <tr>\n",
       "      <th>0</th>\n",
       "      <td>INFJ</td>\n",
       "      <td>43.52417819</td>\n",
       "      <td>58.68915806</td>\n",
       "      <td>an</td>\n",
       "      <td>95.56853657</td>\n",
       "      <td>68.2717645</td>\n",
       "    </tr>\n",
       "    <tr>\n",
       "      <th>1</th>\n",
       "      <td>INFJ</td>\n",
       "      <td>50.22031973</td>\n",
       "      <td>57.71273046</td>\n",
       "      <td>20.2788891</td>\n",
       "      <td>85.88187978</td>\n",
       "      <td>75.60278174</td>\n",
       "    </tr>\n",
       "    <tr>\n",
       "      <th>2</th>\n",
       "      <td>ENTP</td>\n",
       "      <td>37.61441377</td>\n",
       "      <td>53.04986179</td>\n",
       "      <td>19.2923702</td>\n",
       "      <td>97.24779521</td>\n",
       "      <td>76.6872109</td>\n",
       "    </tr>\n",
       "    <tr>\n",
       "      <th>3</th>\n",
       "      <td>INTP</td>\n",
       "      <td>55.88302211</td>\n",
       "      <td>62.36175274</td>\n",
       "      <td>33.68039782</td>\n",
       "      <td>77.35532718</td>\n",
       "      <td>73.16256345</td>\n",
       "    </tr>\n",
       "    <tr>\n",
       "      <th>4</th>\n",
       "      <td>INTJ</td>\n",
       "      <td>21.39582754</td>\n",
       "      <td>70.408671</td>\n",
       "      <td>56.05826003</td>\n",
       "      <td>89.56679917</td>\n",
       "      <td>72.92137874</td>\n",
       "    </tr>\n",
       "  </tbody>\n",
       "</table>\n",
       "</div>"
      ],
      "text/plain": [
       "   type conscieniousness    agreeable extraversion  neuroticism     openness\n",
       "0  INFJ      43.52417819  58.68915806           an  95.56853657   68.2717645\n",
       "1  INFJ      50.22031973  57.71273046   20.2788891  85.88187978  75.60278174\n",
       "2  ENTP      37.61441377  53.04986179   19.2923702  97.24779521   76.6872109\n",
       "3  INTP      55.88302211  62.36175274  33.68039782  77.35532718  73.16256345\n",
       "4  INTJ      21.39582754    70.408671  56.05826003  89.56679917  72.92137874"
      ]
     },
     "execution_count": 8,
     "metadata": {},
     "output_type": "execute_result"
    }
   ],
   "source": [
    "#import dataset and see how it looks like\n",
    "df = pd.read_csv(\"../dataset/mbti_big5_clean.csv\")\n",
    "print(df.shape)\n",
    "df.head()\n"
   ]
  },
  {
   "cell_type": "code",
   "execution_count": 22,
   "metadata": {},
   "outputs": [
    {
     "data": {
      "text/html": [
       "<div>\n",
       "<style scoped>\n",
       "    .dataframe tbody tr th:only-of-type {\n",
       "        vertical-align: middle;\n",
       "    }\n",
       "\n",
       "    .dataframe tbody tr th {\n",
       "        vertical-align: top;\n",
       "    }\n",
       "\n",
       "    .dataframe thead th {\n",
       "        text-align: right;\n",
       "    }\n",
       "</style>\n",
       "<table border=\"1\" class=\"dataframe\">\n",
       "  <thead>\n",
       "    <tr style=\"text-align: right;\">\n",
       "      <th></th>\n",
       "      <th>type</th>\n",
       "      <th>conscieniousness</th>\n",
       "      <th>agreeable</th>\n",
       "      <th>extraversion</th>\n",
       "      <th>neuroticism</th>\n",
       "      <th>openness</th>\n",
       "    </tr>\n",
       "  </thead>\n",
       "  <tbody>\n",
       "    <tr>\n",
       "      <th>1</th>\n",
       "      <td>INFJ</td>\n",
       "      <td>50.22031973</td>\n",
       "      <td>57.71273046</td>\n",
       "      <td>20.2788891</td>\n",
       "      <td>85.88187978</td>\n",
       "      <td>75.60278174</td>\n",
       "    </tr>\n",
       "    <tr>\n",
       "      <th>2</th>\n",
       "      <td>ENTP</td>\n",
       "      <td>37.61441377</td>\n",
       "      <td>53.04986179</td>\n",
       "      <td>19.2923702</td>\n",
       "      <td>97.24779521</td>\n",
       "      <td>76.6872109</td>\n",
       "    </tr>\n",
       "    <tr>\n",
       "      <th>3</th>\n",
       "      <td>INTP</td>\n",
       "      <td>55.88302211</td>\n",
       "      <td>62.36175274</td>\n",
       "      <td>33.68039782</td>\n",
       "      <td>77.35532718</td>\n",
       "      <td>73.16256345</td>\n",
       "    </tr>\n",
       "    <tr>\n",
       "      <th>4</th>\n",
       "      <td>INTJ</td>\n",
       "      <td>21.39582754</td>\n",
       "      <td>70.408671</td>\n",
       "      <td>56.05826003</td>\n",
       "      <td>89.56679917</td>\n",
       "      <td>72.92137874</td>\n",
       "    </tr>\n",
       "    <tr>\n",
       "      <th>5</th>\n",
       "      <td>ENTJ</td>\n",
       "      <td>15.7368388</td>\n",
       "      <td>47.37946064</td>\n",
       "      <td>55.7772194</td>\n",
       "      <td>96.28591317</td>\n",
       "      <td>69.24075453</td>\n",
       "    </tr>\n",
       "  </tbody>\n",
       "</table>\n",
       "</div>"
      ],
      "text/plain": [
       "   type conscieniousness    agreeable extraversion  neuroticism     openness\n",
       "1  INFJ      50.22031973  57.71273046   20.2788891  85.88187978  75.60278174\n",
       "2  ENTP      37.61441377  53.04986179   19.2923702  97.24779521   76.6872109\n",
       "3  INTP      55.88302211  62.36175274  33.68039782  77.35532718  73.16256345\n",
       "4  INTJ      21.39582754    70.408671  56.05826003  89.56679917  72.92137874\n",
       "5  ENTJ       15.7368388  47.37946064   55.7772194  96.28591317  69.24075453"
      ]
     },
     "execution_count": 22,
     "metadata": {},
     "output_type": "execute_result"
    }
   ],
   "source": [
    "# some sample has texts data\n",
    "mask = df['extraversion'].str.contains('^\\d*\\.?\\d*$', na = False)\n",
    "df = df[mask]\n",
    "df.head()"
   ]
  },
  {
   "cell_type": "code",
   "execution_count": 24,
   "metadata": {
    "collapsed": true
   },
   "outputs": [],
   "source": [
    "# remove samples has text data on other traits\n",
    "df = df[df['conscieniousness'].str.contains('^\\d*\\.?\\d*$', na = False)]\n",
    "df = df[df['agreeable'].str.contains('^\\d*\\.?\\d*$', na = False)]\n",
    "df = df[df['neuroticism'].str.contains('^\\d*\\.?\\d*$', na = False)]\n",
    "df = df[df['openness'].str.contains('^\\d*\\.?\\d*$', na = False)]"
   ]
  },
  {
   "cell_type": "code",
   "execution_count": null,
   "metadata": {
    "collapsed": true
   },
   "outputs": [],
   "source": [
    "# preprocess the data\n",
    "# 1. delete unrelated samples\n",
    "# 2. transfer mbti types to integers\n",
    "# 3. unify datatypes of samples\n",
    "# Visualization of data\n",
    "# model set up\n",
    "# 1. train/test/cross-validation\n",
    "# \n",
    "# training\n",
    "# test\n",
    "\n",
    "#most neuroticism score 90%+\n",
    "#since the dataset is unnecessaryly huge, delete some of 90+, and remain some of work"
   ]
  }
 ],
 "metadata": {
  "kernelspec": {
   "display_name": "Python 3",
   "language": "python",
   "name": "python3"
  },
  "language_info": {
   "codemirror_mode": {
    "name": "ipython",
    "version": 3
   },
   "file_extension": ".py",
   "mimetype": "text/x-python",
   "name": "python",
   "nbconvert_exporter": "python",
   "pygments_lexer": "ipython3",
   "version": "3.6.1"
  }
 },
 "nbformat": 4,
 "nbformat_minor": 2
}
