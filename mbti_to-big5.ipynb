{
 "cells": [
  {
   "cell_type": "code",
   "execution_count": 2,
   "metadata": {},
   "outputs": [],
   "source": [
    "import numpy as np\n",
    "import pandas as pd\n",
    "import pickle\n",
    "import sklearn\n",
    "from sklearn.model_selection import KFold\n",
    "from sklearn.model_selection import train_test_split\n",
    "from sklearn.multioutput import MultiOutputRegressor\n",
    "from sklearn.ensemble import GradientBoostingRegressor\n",
    "from sklearn.neural_network import MLPRegressor\n",
    "import seaborn as sns\n",
    "import matplotlib.pyplot as plt"
   ]
  },
  {
   "cell_type": "code",
   "execution_count": 3,
   "metadata": {},
   "outputs": [
    {
     "name": "stdout",
     "output_type": "stream",
     "text": [
      "(8672, 6)\n"
     ]
    },
    {
     "data": {
      "text/html": [
       "<div>\n",
       "<style scoped>\n",
       "    .dataframe tbody tr th:only-of-type {\n",
       "        vertical-align: middle;\n",
       "    }\n",
       "\n",
       "    .dataframe tbody tr th {\n",
       "        vertical-align: top;\n",
       "    }\n",
       "\n",
       "    .dataframe thead th {\n",
       "        text-align: right;\n",
       "    }\n",
       "</style>\n",
       "<table border=\"1\" class=\"dataframe\">\n",
       "  <thead>\n",
       "    <tr style=\"text-align: right;\">\n",
       "      <th></th>\n",
       "      <th>type</th>\n",
       "      <th>conscieniousness</th>\n",
       "      <th>agreeable</th>\n",
       "      <th>extraversion</th>\n",
       "      <th>neuroticism</th>\n",
       "      <th>openness</th>\n",
       "    </tr>\n",
       "  </thead>\n",
       "  <tbody>\n",
       "    <tr>\n",
       "      <th>0</th>\n",
       "      <td>INFJ</td>\n",
       "      <td>43.52417819</td>\n",
       "      <td>58.68915806</td>\n",
       "      <td>an</td>\n",
       "      <td>95.56853657</td>\n",
       "      <td>68.2717645</td>\n",
       "    </tr>\n",
       "    <tr>\n",
       "      <th>1</th>\n",
       "      <td>INFJ</td>\n",
       "      <td>50.22031973</td>\n",
       "      <td>57.71273046</td>\n",
       "      <td>20.2788891</td>\n",
       "      <td>85.88187978</td>\n",
       "      <td>75.60278174</td>\n",
       "    </tr>\n",
       "    <tr>\n",
       "      <th>2</th>\n",
       "      <td>ENTP</td>\n",
       "      <td>37.61441377</td>\n",
       "      <td>53.04986179</td>\n",
       "      <td>19.2923702</td>\n",
       "      <td>97.24779521</td>\n",
       "      <td>76.6872109</td>\n",
       "    </tr>\n",
       "    <tr>\n",
       "      <th>3</th>\n",
       "      <td>INTP</td>\n",
       "      <td>55.88302211</td>\n",
       "      <td>62.36175274</td>\n",
       "      <td>33.68039782</td>\n",
       "      <td>77.35532718</td>\n",
       "      <td>73.16256345</td>\n",
       "    </tr>\n",
       "    <tr>\n",
       "      <th>4</th>\n",
       "      <td>INTJ</td>\n",
       "      <td>21.39582754</td>\n",
       "      <td>70.408671</td>\n",
       "      <td>56.05826003</td>\n",
       "      <td>89.56679917</td>\n",
       "      <td>72.92137874</td>\n",
       "    </tr>\n",
       "  </tbody>\n",
       "</table>\n",
       "</div>"
      ],
      "text/plain": [
       "   type conscieniousness    agreeable extraversion  neuroticism     openness\n",
       "0  INFJ      43.52417819  58.68915806           an  95.56853657   68.2717645\n",
       "1  INFJ      50.22031973  57.71273046   20.2788891  85.88187978  75.60278174\n",
       "2  ENTP      37.61441377  53.04986179   19.2923702  97.24779521   76.6872109\n",
       "3  INTP      55.88302211  62.36175274  33.68039782  77.35532718  73.16256345\n",
       "4  INTJ      21.39582754    70.408671  56.05826003  89.56679917  72.92137874"
      ]
     },
     "execution_count": 3,
     "metadata": {},
     "output_type": "execute_result"
    }
   ],
   "source": [
    "#import dataset and see how it looks like\n",
    "df = pd.read_csv(\"../dataset/mbti_big5_clean.csv\")\n",
    "print(df.shape)\n",
    "df.head()\n"
   ]
  },
  {
   "cell_type": "code",
   "execution_count": 4,
   "metadata": {},
   "outputs": [
    {
     "data": {
      "text/html": [
       "<div>\n",
       "<style scoped>\n",
       "    .dataframe tbody tr th:only-of-type {\n",
       "        vertical-align: middle;\n",
       "    }\n",
       "\n",
       "    .dataframe tbody tr th {\n",
       "        vertical-align: top;\n",
       "    }\n",
       "\n",
       "    .dataframe thead th {\n",
       "        text-align: right;\n",
       "    }\n",
       "</style>\n",
       "<table border=\"1\" class=\"dataframe\">\n",
       "  <thead>\n",
       "    <tr style=\"text-align: right;\">\n",
       "      <th></th>\n",
       "      <th>type</th>\n",
       "      <th>conscieniousness</th>\n",
       "      <th>agreeable</th>\n",
       "      <th>extraversion</th>\n",
       "      <th>neuroticism</th>\n",
       "      <th>openness</th>\n",
       "    </tr>\n",
       "  </thead>\n",
       "  <tbody>\n",
       "    <tr>\n",
       "      <th>1</th>\n",
       "      <td>INFJ</td>\n",
       "      <td>50.22031973</td>\n",
       "      <td>57.71273046</td>\n",
       "      <td>20.2788891</td>\n",
       "      <td>85.88187978</td>\n",
       "      <td>75.60278174</td>\n",
       "    </tr>\n",
       "    <tr>\n",
       "      <th>2</th>\n",
       "      <td>ENTP</td>\n",
       "      <td>37.61441377</td>\n",
       "      <td>53.04986179</td>\n",
       "      <td>19.2923702</td>\n",
       "      <td>97.24779521</td>\n",
       "      <td>76.6872109</td>\n",
       "    </tr>\n",
       "    <tr>\n",
       "      <th>3</th>\n",
       "      <td>INTP</td>\n",
       "      <td>55.88302211</td>\n",
       "      <td>62.36175274</td>\n",
       "      <td>33.68039782</td>\n",
       "      <td>77.35532718</td>\n",
       "      <td>73.16256345</td>\n",
       "    </tr>\n",
       "    <tr>\n",
       "      <th>4</th>\n",
       "      <td>INTJ</td>\n",
       "      <td>21.39582754</td>\n",
       "      <td>70.408671</td>\n",
       "      <td>56.05826003</td>\n",
       "      <td>89.56679917</td>\n",
       "      <td>72.92137874</td>\n",
       "    </tr>\n",
       "    <tr>\n",
       "      <th>5</th>\n",
       "      <td>ENTJ</td>\n",
       "      <td>15.7368388</td>\n",
       "      <td>47.37946064</td>\n",
       "      <td>55.7772194</td>\n",
       "      <td>96.28591317</td>\n",
       "      <td>69.24075453</td>\n",
       "    </tr>\n",
       "  </tbody>\n",
       "</table>\n",
       "</div>"
      ],
      "text/plain": [
       "   type conscieniousness    agreeable extraversion  neuroticism     openness\n",
       "1  INFJ      50.22031973  57.71273046   20.2788891  85.88187978  75.60278174\n",
       "2  ENTP      37.61441377  53.04986179   19.2923702  97.24779521   76.6872109\n",
       "3  INTP      55.88302211  62.36175274  33.68039782  77.35532718  73.16256345\n",
       "4  INTJ      21.39582754    70.408671  56.05826003  89.56679917  72.92137874\n",
       "5  ENTJ       15.7368388  47.37946064   55.7772194  96.28591317  69.24075453"
      ]
     },
     "execution_count": 4,
     "metadata": {},
     "output_type": "execute_result"
    }
   ],
   "source": [
    "# some sample has texts data\n",
    "mask = df['extraversion'].str.contains('^\\d*\\.?\\d*$', na = False)\n",
    "df = df[mask]\n",
    "df.head()"
   ]
  },
  {
   "cell_type": "code",
   "execution_count": 5,
   "metadata": {
    "collapsed": true
   },
   "outputs": [],
   "source": [
    "# remove samples has text data on other traits\n",
    "df = df[df['conscieniousness'].str.contains('^\\d*\\.?\\d*$', na = False)]\n",
    "df = df[df['agreeable'].str.contains('^\\d*\\.?\\d*$', na = False)]\n",
    "df = df[df['neuroticism'].str.contains('^\\d*\\.?\\d*$', na = False)]\n",
    "df = df[df['openness'].str.contains('^\\d*\\.?\\d*$', na = False)]"
   ]
  },
  {
   "cell_type": "code",
   "execution_count": 6,
   "metadata": {},
   "outputs": [
    {
     "name": "stdout",
     "output_type": "stream",
     "text": [
      "<class 'pandas.core.frame.DataFrame'>\n",
      "Int64Index: 8488 entries, 1 to 8671\n",
      "Data columns (total 9 columns):\n",
      "IE                  8488 non-null object\n",
      "SN                  8488 non-null object\n",
      "TF                  8488 non-null object\n",
      "PJ                  8488 non-null object\n",
      "conscieniousness    8488 non-null object\n",
      "agreeable           8488 non-null object\n",
      "neuroticism         8488 non-null object\n",
      "openness            8488 non-null object\n",
      "extraversion        8488 non-null object\n",
      "dtypes: object(9)\n",
      "memory usage: 663.1+ KB\n"
     ]
    }
   ],
   "source": [
    "mbti_cols = df['type'].str.extract('(?P<IE>[IE])(?P<SN>[SN])(?P<TF>[TF])(?P<PJ>[PJ])', expand = False)\n",
    "mbti_cols.head()\n",
    "df = mbti_cols.assign(conscieniousness=df['conscieniousness'],\n",
    "                      agreeable=df['agreeable'],\n",
    "                      neuroticism=df['neuroticism'],\n",
    "                      openness=df['openness'],\n",
    "                      extraversion=df['extraversion'])\n",
    "df.info()"
   ]
  },
  {
   "cell_type": "code",
   "execution_count": 7,
   "metadata": {},
   "outputs": [
    {
     "data": {
      "text/html": [
       "<div>\n",
       "<style scoped>\n",
       "    .dataframe tbody tr th:only-of-type {\n",
       "        vertical-align: middle;\n",
       "    }\n",
       "\n",
       "    .dataframe tbody tr th {\n",
       "        vertical-align: top;\n",
       "    }\n",
       "\n",
       "    .dataframe thead th {\n",
       "        text-align: right;\n",
       "    }\n",
       "</style>\n",
       "<table border=\"1\" class=\"dataframe\">\n",
       "  <thead>\n",
       "    <tr style=\"text-align: right;\">\n",
       "      <th></th>\n",
       "      <th>IE</th>\n",
       "      <th>SN</th>\n",
       "      <th>TF</th>\n",
       "      <th>PJ</th>\n",
       "      <th>conscieniousness</th>\n",
       "      <th>agreeable</th>\n",
       "      <th>neuroticism</th>\n",
       "      <th>openness</th>\n",
       "      <th>extraversion</th>\n",
       "    </tr>\n",
       "  </thead>\n",
       "  <tbody>\n",
       "    <tr>\n",
       "      <th>1</th>\n",
       "      <td>1</td>\n",
       "      <td>1</td>\n",
       "      <td>1</td>\n",
       "      <td>1</td>\n",
       "      <td>50.22031973</td>\n",
       "      <td>57.71273046</td>\n",
       "      <td>85.88187978</td>\n",
       "      <td>75.60278174</td>\n",
       "      <td>20.2788891</td>\n",
       "    </tr>\n",
       "    <tr>\n",
       "      <th>2</th>\n",
       "      <td>0</td>\n",
       "      <td>1</td>\n",
       "      <td>0</td>\n",
       "      <td>0</td>\n",
       "      <td>37.61441377</td>\n",
       "      <td>53.04986179</td>\n",
       "      <td>97.24779521</td>\n",
       "      <td>76.6872109</td>\n",
       "      <td>19.2923702</td>\n",
       "    </tr>\n",
       "    <tr>\n",
       "      <th>3</th>\n",
       "      <td>1</td>\n",
       "      <td>1</td>\n",
       "      <td>0</td>\n",
       "      <td>0</td>\n",
       "      <td>55.88302211</td>\n",
       "      <td>62.36175274</td>\n",
       "      <td>77.35532718</td>\n",
       "      <td>73.16256345</td>\n",
       "      <td>33.68039782</td>\n",
       "    </tr>\n",
       "    <tr>\n",
       "      <th>4</th>\n",
       "      <td>1</td>\n",
       "      <td>1</td>\n",
       "      <td>0</td>\n",
       "      <td>1</td>\n",
       "      <td>21.39582754</td>\n",
       "      <td>70.408671</td>\n",
       "      <td>89.56679917</td>\n",
       "      <td>72.92137874</td>\n",
       "      <td>56.05826003</td>\n",
       "    </tr>\n",
       "    <tr>\n",
       "      <th>5</th>\n",
       "      <td>0</td>\n",
       "      <td>1</td>\n",
       "      <td>0</td>\n",
       "      <td>1</td>\n",
       "      <td>15.7368388</td>\n",
       "      <td>47.37946064</td>\n",
       "      <td>96.28591317</td>\n",
       "      <td>69.24075453</td>\n",
       "      <td>55.7772194</td>\n",
       "    </tr>\n",
       "  </tbody>\n",
       "</table>\n",
       "</div>"
      ],
      "text/plain": [
       "   IE  SN  TF  PJ conscieniousness    agreeable  neuroticism     openness  \\\n",
       "1   1   1   1   1      50.22031973  57.71273046  85.88187978  75.60278174   \n",
       "2   0   1   0   0      37.61441377  53.04986179  97.24779521   76.6872109   \n",
       "3   1   1   0   0      55.88302211  62.36175274  77.35532718  73.16256345   \n",
       "4   1   1   0   1      21.39582754    70.408671  89.56679917  72.92137874   \n",
       "5   0   1   0   1       15.7368388  47.37946064  96.28591317  69.24075453   \n",
       "\n",
       "  extraversion  \n",
       "1   20.2788891  \n",
       "2   19.2923702  \n",
       "3  33.68039782  \n",
       "4  56.05826003  \n",
       "5   55.7772194  "
      ]
     },
     "execution_count": 7,
     "metadata": {},
     "output_type": "execute_result"
    }
   ],
   "source": [
    "# transfer mbti to integers\n",
    "mbti_dict = {'I':1, 'E':0, 'S':0, 'N':1, 'T':0, 'F':1, 'P':0, 'J':1}\n",
    "mbti_dict_back = {v: k for k, v in mbti_dict.items()}\n",
    "\n",
    "df['IE'] = df['IE'].apply(lambda x: mbti_dict[x])\n",
    "df['PJ'] = df['PJ'].apply(lambda x: mbti_dict[x])\n",
    "df['SN'] = df['SN'].apply(lambda x: mbti_dict[x])\n",
    "df['TF'] = df['TF'].apply(lambda x: mbti_dict[x])\n",
    "\n",
    "df.head()"
   ]
  },
  {
   "cell_type": "code",
   "execution_count": 8,
   "metadata": {},
   "outputs": [
    {
     "data": {
      "text/plain": [
       "IE                    int64\n",
       "SN                    int64\n",
       "TF                    int64\n",
       "PJ                    int64\n",
       "conscieniousness    float64\n",
       "agreeable           float64\n",
       "neuroticism         float64\n",
       "openness            float64\n",
       "extraversion        float64\n",
       "dtype: object"
      ]
     },
     "execution_count": 8,
     "metadata": {},
     "output_type": "execute_result"
    }
   ],
   "source": [
    "# unify datatypes\n",
    "df = df.apply(pd.to_numeric)\n",
    "df.dtypes"
   ]
  },
  {
   "cell_type": "code",
   "execution_count": 9,
   "metadata": {},
   "outputs": [
    {
     "data": {
      "text/html": [
       "<div>\n",
       "<style scoped>\n",
       "    .dataframe tbody tr th:only-of-type {\n",
       "        vertical-align: middle;\n",
       "    }\n",
       "\n",
       "    .dataframe tbody tr th {\n",
       "        vertical-align: top;\n",
       "    }\n",
       "\n",
       "    .dataframe thead th {\n",
       "        text-align: right;\n",
       "    }\n",
       "</style>\n",
       "<table border=\"1\" class=\"dataframe\">\n",
       "  <thead>\n",
       "    <tr style=\"text-align: right;\">\n",
       "      <th></th>\n",
       "      <th>IE</th>\n",
       "      <th>SN</th>\n",
       "      <th>TF</th>\n",
       "      <th>PJ</th>\n",
       "      <th>conscieniousness</th>\n",
       "      <th>agreeable</th>\n",
       "      <th>neuroticism</th>\n",
       "      <th>openness</th>\n",
       "      <th>extraversion</th>\n",
       "    </tr>\n",
       "  </thead>\n",
       "  <tbody>\n",
       "    <tr>\n",
       "      <th>count</th>\n",
       "      <td>8488.000000</td>\n",
       "      <td>8488.000000</td>\n",
       "      <td>8488.000000</td>\n",
       "      <td>8488.000000</td>\n",
       "      <td>8488.000000</td>\n",
       "      <td>8488.000000</td>\n",
       "      <td>8488.000000</td>\n",
       "      <td>8488.000000</td>\n",
       "      <td>8488.000000</td>\n",
       "    </tr>\n",
       "    <tr>\n",
       "      <th>mean</th>\n",
       "      <td>0.769321</td>\n",
       "      <td>0.861216</td>\n",
       "      <td>0.540528</td>\n",
       "      <td>0.396442</td>\n",
       "      <td>34.859276</td>\n",
       "      <td>50.606149</td>\n",
       "      <td>91.332269</td>\n",
       "      <td>69.594194</td>\n",
       "      <td>34.768475</td>\n",
       "    </tr>\n",
       "    <tr>\n",
       "      <th>std</th>\n",
       "      <td>0.421292</td>\n",
       "      <td>0.345742</td>\n",
       "      <td>0.498384</td>\n",
       "      <td>0.489187</td>\n",
       "      <td>17.656223</td>\n",
       "      <td>15.575845</td>\n",
       "      <td>10.306173</td>\n",
       "      <td>13.968651</td>\n",
       "      <td>16.157007</td>\n",
       "    </tr>\n",
       "    <tr>\n",
       "      <th>min</th>\n",
       "      <td>0.000000</td>\n",
       "      <td>0.000000</td>\n",
       "      <td>0.000000</td>\n",
       "      <td>0.000000</td>\n",
       "      <td>1.000000</td>\n",
       "      <td>3.658302</td>\n",
       "      <td>4.000000</td>\n",
       "      <td>2.000000</td>\n",
       "      <td>1.000000</td>\n",
       "    </tr>\n",
       "    <tr>\n",
       "      <th>25%</th>\n",
       "      <td>1.000000</td>\n",
       "      <td>1.000000</td>\n",
       "      <td>0.000000</td>\n",
       "      <td>0.000000</td>\n",
       "      <td>21.019192</td>\n",
       "      <td>39.437223</td>\n",
       "      <td>88.196674</td>\n",
       "      <td>60.609393</td>\n",
       "      <td>22.736694</td>\n",
       "    </tr>\n",
       "    <tr>\n",
       "      <th>50%</th>\n",
       "      <td>1.000000</td>\n",
       "      <td>1.000000</td>\n",
       "      <td>1.000000</td>\n",
       "      <td>0.000000</td>\n",
       "      <td>34.091767</td>\n",
       "      <td>50.857164</td>\n",
       "      <td>95.275233</td>\n",
       "      <td>71.218644</td>\n",
       "      <td>33.487382</td>\n",
       "    </tr>\n",
       "    <tr>\n",
       "      <th>75%</th>\n",
       "      <td>1.000000</td>\n",
       "      <td>1.000000</td>\n",
       "      <td>1.000000</td>\n",
       "      <td>1.000000</td>\n",
       "      <td>47.204290</td>\n",
       "      <td>61.806459</td>\n",
       "      <td>98.487059</td>\n",
       "      <td>80.074291</td>\n",
       "      <td>45.527647</td>\n",
       "    </tr>\n",
       "    <tr>\n",
       "      <th>max</th>\n",
       "      <td>1.000000</td>\n",
       "      <td>1.000000</td>\n",
       "      <td>1.000000</td>\n",
       "      <td>1.000000</td>\n",
       "      <td>95.165435</td>\n",
       "      <td>99.000000</td>\n",
       "      <td>99.000000</td>\n",
       "      <td>99.000000</td>\n",
       "      <td>94.242590</td>\n",
       "    </tr>\n",
       "  </tbody>\n",
       "</table>\n",
       "</div>"
      ],
      "text/plain": [
       "                IE           SN           TF           PJ  conscieniousness  \\\n",
       "count  8488.000000  8488.000000  8488.000000  8488.000000       8488.000000   \n",
       "mean      0.769321     0.861216     0.540528     0.396442         34.859276   \n",
       "std       0.421292     0.345742     0.498384     0.489187         17.656223   \n",
       "min       0.000000     0.000000     0.000000     0.000000          1.000000   \n",
       "25%       1.000000     1.000000     0.000000     0.000000         21.019192   \n",
       "50%       1.000000     1.000000     1.000000     0.000000         34.091767   \n",
       "75%       1.000000     1.000000     1.000000     1.000000         47.204290   \n",
       "max       1.000000     1.000000     1.000000     1.000000         95.165435   \n",
       "\n",
       "         agreeable  neuroticism     openness  extraversion  \n",
       "count  8488.000000  8488.000000  8488.000000   8488.000000  \n",
       "mean     50.606149    91.332269    69.594194     34.768475  \n",
       "std      15.575845    10.306173    13.968651     16.157007  \n",
       "min       3.658302     4.000000     2.000000      1.000000  \n",
       "25%      39.437223    88.196674    60.609393     22.736694  \n",
       "50%      50.857164    95.275233    71.218644     33.487382  \n",
       "75%      61.806459    98.487059    80.074291     45.527647  \n",
       "max      99.000000    99.000000    99.000000     94.242590  "
      ]
     },
     "execution_count": 9,
     "metadata": {},
     "output_type": "execute_result"
    }
   ],
   "source": [
    "# see how data look like\n",
    "df.describe()"
   ]
  },
  {
   "cell_type": "code",
   "execution_count": 10,
   "metadata": {},
   "outputs": [
    {
     "name": "stdout",
     "output_type": "stream",
     "text": [
      "<class 'pandas.core.frame.DataFrame'>\n",
      "Int64Index: 974 entries, 3 to 8358\n",
      "Data columns (total 9 columns):\n",
      "IE                  974 non-null int64\n",
      "SN                  974 non-null int64\n",
      "TF                  974 non-null int64\n",
      "PJ                  974 non-null int64\n",
      "conscieniousness    974 non-null float64\n",
      "agreeable           974 non-null float64\n",
      "neuroticism         974 non-null float64\n",
      "openness            974 non-null float64\n",
      "extraversion        974 non-null float64\n",
      "dtypes: float64(5), int64(4)\n",
      "memory usage: 76.1 KB\n",
      "<class 'pandas.core.frame.DataFrame'>\n",
      "Int64Index: 1261 entries, 3 to 8671\n",
      "Data columns (total 9 columns):\n",
      "IE                  1261 non-null int64\n",
      "SN                  1261 non-null int64\n",
      "TF                  1261 non-null int64\n",
      "PJ                  1261 non-null int64\n",
      "conscieniousness    1261 non-null float64\n",
      "agreeable           1261 non-null float64\n",
      "neuroticism         1261 non-null float64\n",
      "openness            1261 non-null float64\n",
      "extraversion        1261 non-null float64\n",
      "dtypes: float64(5), int64(4)\n",
      "memory usage: 98.5 KB\n"
     ]
    }
   ],
   "source": [
    "# the text of mbti dataset were collected from posts in 'personality cafe' forum, therefore,\n",
    "# content in this type of psychology forum is highly possible relating to words with neuroticism.\n",
    "# for a less noise distribution, I decided to delete some of samples that has neuroticism 90+\n",
    "df_red = df.head(8200)\n",
    "df_red = df_red[df_red['neuroticism']<80]\n",
    "df_red.info()\n",
    "df_temp = df.iloc[8201:]\n",
    "df_red = df_red.append(df_temp)\n",
    "df_red.info()\n",
    "# 974/1261 around 0.77"
   ]
  },
  {
   "cell_type": "code",
   "execution_count": 11,
   "metadata": {},
   "outputs": [
    {
     "data": {
      "text/html": [
       "<div>\n",
       "<style scoped>\n",
       "    .dataframe tbody tr th:only-of-type {\n",
       "        vertical-align: middle;\n",
       "    }\n",
       "\n",
       "    .dataframe tbody tr th {\n",
       "        vertical-align: top;\n",
       "    }\n",
       "\n",
       "    .dataframe thead th {\n",
       "        text-align: right;\n",
       "    }\n",
       "</style>\n",
       "<table border=\"1\" class=\"dataframe\">\n",
       "  <thead>\n",
       "    <tr style=\"text-align: right;\">\n",
       "      <th></th>\n",
       "      <th>IE</th>\n",
       "      <th>SN</th>\n",
       "      <th>TF</th>\n",
       "      <th>PJ</th>\n",
       "      <th>conscieniousness</th>\n",
       "      <th>agreeable</th>\n",
       "      <th>neuroticism</th>\n",
       "      <th>openness</th>\n",
       "      <th>extraversion</th>\n",
       "    </tr>\n",
       "  </thead>\n",
       "  <tbody>\n",
       "    <tr>\n",
       "      <th>count</th>\n",
       "      <td>1261.000000</td>\n",
       "      <td>1261.000000</td>\n",
       "      <td>1261.000000</td>\n",
       "      <td>1261.000000</td>\n",
       "      <td>1261.000000</td>\n",
       "      <td>1261.000000</td>\n",
       "      <td>1261.000000</td>\n",
       "      <td>1261.000000</td>\n",
       "      <td>1261.000000</td>\n",
       "    </tr>\n",
       "    <tr>\n",
       "      <th>mean</th>\n",
       "      <td>0.791435</td>\n",
       "      <td>0.846947</td>\n",
       "      <td>0.501190</td>\n",
       "      <td>0.411578</td>\n",
       "      <td>41.032324</td>\n",
       "      <td>63.278637</td>\n",
       "      <td>73.751061</td>\n",
       "      <td>71.292087</td>\n",
       "      <td>41.539847</td>\n",
       "    </tr>\n",
       "    <tr>\n",
       "      <th>std</th>\n",
       "      <td>0.406444</td>\n",
       "      <td>0.360182</td>\n",
       "      <td>0.500197</td>\n",
       "      <td>0.492315</td>\n",
       "      <td>17.443387</td>\n",
       "      <td>14.534725</td>\n",
       "      <td>14.341582</td>\n",
       "      <td>13.948985</td>\n",
       "      <td>16.846683</td>\n",
       "    </tr>\n",
       "    <tr>\n",
       "      <th>min</th>\n",
       "      <td>0.000000</td>\n",
       "      <td>0.000000</td>\n",
       "      <td>0.000000</td>\n",
       "      <td>0.000000</td>\n",
       "      <td>3.159586</td>\n",
       "      <td>8.839602</td>\n",
       "      <td>4.000000</td>\n",
       "      <td>14.567783</td>\n",
       "      <td>1.000000</td>\n",
       "    </tr>\n",
       "    <tr>\n",
       "      <th>25%</th>\n",
       "      <td>1.000000</td>\n",
       "      <td>1.000000</td>\n",
       "      <td>0.000000</td>\n",
       "      <td>0.000000</td>\n",
       "      <td>28.228784</td>\n",
       "      <td>54.345570</td>\n",
       "      <td>66.709667</td>\n",
       "      <td>63.469826</td>\n",
       "      <td>29.410574</td>\n",
       "    </tr>\n",
       "    <tr>\n",
       "      <th>50%</th>\n",
       "      <td>1.000000</td>\n",
       "      <td>1.000000</td>\n",
       "      <td>1.000000</td>\n",
       "      <td>0.000000</td>\n",
       "      <td>41.355316</td>\n",
       "      <td>64.673337</td>\n",
       "      <td>74.205833</td>\n",
       "      <td>73.798465</td>\n",
       "      <td>40.984155</td>\n",
       "    </tr>\n",
       "    <tr>\n",
       "      <th>75%</th>\n",
       "      <td>1.000000</td>\n",
       "      <td>1.000000</td>\n",
       "      <td>1.000000</td>\n",
       "      <td>1.000000</td>\n",
       "      <td>52.803015</td>\n",
       "      <td>73.629338</td>\n",
       "      <td>79.243662</td>\n",
       "      <td>81.194365</td>\n",
       "      <td>52.875185</td>\n",
       "    </tr>\n",
       "    <tr>\n",
       "      <th>max</th>\n",
       "      <td>1.000000</td>\n",
       "      <td>1.000000</td>\n",
       "      <td>1.000000</td>\n",
       "      <td>1.000000</td>\n",
       "      <td>95.165435</td>\n",
       "      <td>99.000000</td>\n",
       "      <td>99.000000</td>\n",
       "      <td>97.464683</td>\n",
       "      <td>94.242590</td>\n",
       "    </tr>\n",
       "  </tbody>\n",
       "</table>\n",
       "</div>"
      ],
      "text/plain": [
       "                IE           SN           TF           PJ  conscieniousness  \\\n",
       "count  1261.000000  1261.000000  1261.000000  1261.000000       1261.000000   \n",
       "mean      0.791435     0.846947     0.501190     0.411578         41.032324   \n",
       "std       0.406444     0.360182     0.500197     0.492315         17.443387   \n",
       "min       0.000000     0.000000     0.000000     0.000000          3.159586   \n",
       "25%       1.000000     1.000000     0.000000     0.000000         28.228784   \n",
       "50%       1.000000     1.000000     1.000000     0.000000         41.355316   \n",
       "75%       1.000000     1.000000     1.000000     1.000000         52.803015   \n",
       "max       1.000000     1.000000     1.000000     1.000000         95.165435   \n",
       "\n",
       "         agreeable  neuroticism     openness  extraversion  \n",
       "count  1261.000000  1261.000000  1261.000000   1261.000000  \n",
       "mean     63.278637    73.751061    71.292087     41.539847  \n",
       "std      14.534725    14.341582    13.948985     16.846683  \n",
       "min       8.839602     4.000000    14.567783      1.000000  \n",
       "25%      54.345570    66.709667    63.469826     29.410574  \n",
       "50%      64.673337    74.205833    73.798465     40.984155  \n",
       "75%      73.629338    79.243662    81.194365     52.875185  \n",
       "max      99.000000    99.000000    97.464683     94.242590  "
      ]
     },
     "execution_count": 11,
     "metadata": {},
     "output_type": "execute_result"
    }
   ],
   "source": [
    "df_red.describe()"
   ]
  },
  {
   "cell_type": "code",
   "execution_count": 12,
   "metadata": {},
   "outputs": [
    {
     "name": "stdout",
     "output_type": "stream",
     "text": [
      "feature shape : (1261, 3)\n",
      "labels shape : (1261, 4)\n"
     ]
    }
   ],
   "source": [
    "# preparing training\n",
    "features = df_red.iloc[:, 0:3]\n",
    "labels = df_red.iloc[:, 4:8]\n",
    "print('feature shape :', features.shape)\n",
    "print('labels shape :', labels.shape)"
   ]
  },
  {
   "cell_type": "code",
   "execution_count": 13,
   "metadata": {},
   "outputs": [
    {
     "name": "stdout",
     "output_type": "stream",
     "text": [
      "(1008, 3)\n",
      "(253, 3)\n",
      "(1008, 4)\n",
      "(253, 4)\n"
     ]
    }
   ],
   "source": [
    "X_train, X_test, y_train, y_test = sklearn.model_selection.train_test_split(features, labels, \n",
    "                                                                            test_size=0.2, \n",
    "                                                                            random_state = 1)\n",
    "print(X_train.shape)\n",
    "print(X_test.shape)\n",
    "print(y_train.shape)\n",
    "print(y_test.shape)"
   ]
  },
  {
   "cell_type": "code",
   "execution_count": 14,
   "metadata": {},
   "outputs": [
    {
     "name": "stdout",
     "output_type": "stream",
     "text": [
      "scores: 0.000616782001944\n"
     ]
    }
   ],
   "source": [
    "# multioutput regression model\n",
    "model = MultiOutputRegressor(GradientBoostingRegressor(random_state=0))\n",
    "model.fit(X_train, y_train)\n",
    "scores = model.score(X_test, y_test)\n",
    "print('scores:', scores)"
   ]
  },
  {
   "cell_type": "code",
   "execution_count": 15,
   "metadata": {
    "collapsed": true
   },
   "outputs": [],
   "source": [
    "# zero score problem analysis:\n",
    "# 1. assume we have a perfect model, we only have 16 possible combinations of MBTI types, then input each combination\n",
    "# would only result in fixed outpout; therefore, overall we would only have 16 possible arrangement of Big 5.\n",
    "# 2. since current dataset has 1000+ samples, it's not reasonable to fit 1000+ samples to 16 exact combinations\n",
    "\n",
    "# TO-DO:\n",
    "# 1. training using neural network; take cost as a standard\n",
    "# 2. reduce dataset size, to attain a minimum cost\n",
    "# 3. text features to Big 5"
   ]
  },
  {
   "cell_type": "code",
   "execution_count": 16,
   "metadata": {
    "scrolled": true
   },
   "outputs": [
    {
     "name": "stdout",
     "output_type": "stream",
     "text": [
      "Iteration 1, loss = 2143.50471713\n",
      "Iteration 2, loss = 2129.19064651\n",
      "Iteration 3, loss = 2113.86568537\n",
      "Iteration 4, loss = 2091.06367082\n",
      "Iteration 5, loss = 2050.50709049\n",
      "Iteration 6, loss = 1972.58587201\n",
      "Iteration 7, loss = 1822.67289446\n",
      "Iteration 8, loss = 1542.49831304\n",
      "Iteration 9, loss = 1065.94312555\n",
      "Iteration 10, loss = 444.10499533\n",
      "Iteration 11, loss = 228.09455126\n",
      "Iteration 12, loss = 241.62184300\n",
      "Iteration 13, loss = 138.68866714\n",
      "Iteration 14, loss = 157.53365039\n",
      "Iteration 15, loss = 132.77393885\n",
      "Iteration 16, loss = 127.81791147\n",
      "Iteration 17, loss = 124.09478196\n",
      "Iteration 18, loss = 118.62946411\n",
      "Iteration 19, loss = 118.53609229\n",
      "Iteration 20, loss = 116.81899924\n",
      "Iteration 21, loss = 116.85652663\n",
      "Iteration 22, loss = 115.96144891\n",
      "Iteration 23, loss = 115.67444607\n",
      "Iteration 24, loss = 115.61328776\n",
      "Iteration 25, loss = 115.73304841\n",
      "Iteration 26, loss = 115.71899137\n",
      "Iteration 27, loss = 116.02830258\n",
      "Training loss did not improve more than tol=0.000100 for two consecutive epochs. Stopping.\n",
      "loss:  116.028302585\n",
      "Score:  -0.00200482219777\n"
     ]
    }
   ],
   "source": [
    "# training using MLP regressor; take cost as a standard\n",
    "model = MLPRegressor(hidden_layer_sizes=(50,50,50,50,50,50), solver='adam', verbose=True)\n",
    "model.fit(X_train, y_train)\n",
    "print('loss: ', model.loss_)\n",
    "score = model.score(X_test, y_test)\n",
    "print('Score: ', score)\n",
    "# R^2 is negative, not useful\n",
    "# not good enough, try reduce dataset"
   ]
  },
  {
   "cell_type": "code",
   "execution_count": 17,
   "metadata": {},
   "outputs": [
    {
     "name": "stdout",
     "output_type": "stream",
     "text": [
      "<class 'pandas.core.frame.DataFrame'>\n",
      "Int64Index: 151 entries, 3 to 1203\n",
      "Data columns (total 9 columns):\n",
      "IE                  151 non-null int64\n",
      "SN                  151 non-null int64\n",
      "TF                  151 non-null int64\n",
      "PJ                  151 non-null int64\n",
      "conscieniousness    151 non-null float64\n",
      "agreeable           151 non-null float64\n",
      "neuroticism         151 non-null float64\n",
      "openness            151 non-null float64\n",
      "extraversion        151 non-null float64\n",
      "dtypes: float64(5), int64(4)\n",
      "memory usage: 11.8 KB\n",
      "<class 'pandas.core.frame.DataFrame'>\n",
      "Int64Index: 450 entries, 3 to 1522\n",
      "Data columns (total 9 columns):\n",
      "IE                  450 non-null int64\n",
      "SN                  450 non-null int64\n",
      "TF                  450 non-null int64\n",
      "PJ                  450 non-null int64\n",
      "conscieniousness    450 non-null float64\n",
      "agreeable           450 non-null float64\n",
      "neuroticism         450 non-null float64\n",
      "openness            450 non-null float64\n",
      "extraversion        450 non-null float64\n",
      "dtypes: float64(5), int64(4)\n",
      "memory usage: 35.2 KB\n"
     ]
    }
   ],
   "source": [
    "# reduce dataset\n",
    "df_red2 = df.head(1500)\n",
    "df_temp1 = df_red2.head(1200)\n",
    "df_temp1 = df_temp1[df_temp1['neuroticism']<80]\n",
    "df_temp1.info()\n",
    "df_temp2 = df_red2.iloc[1201:]\n",
    "df_red2 = df_temp1.append(df_temp2)\n",
    "df_red2.info()"
   ]
  },
  {
   "cell_type": "code",
   "execution_count": 18,
   "metadata": {},
   "outputs": [
    {
     "name": "stdout",
     "output_type": "stream",
     "text": [
      "feature shape : (450, 3)\n",
      "labels shape : (450, 4)\n",
      "(360, 3)\n",
      "(90, 3)\n",
      "(360, 4)\n",
      "(90, 4)\n"
     ]
    }
   ],
   "source": [
    "# preparing training\n",
    "features = df_red2.iloc[:, 0:3]\n",
    "labels = df_red2.iloc[:, 4:8]\n",
    "print('feature shape :', features.shape)\n",
    "print('labels shape :', labels.shape)\n",
    "\n",
    "X_train, X_test, y_train, y_test = sklearn.model_selection.train_test_split(features, labels, \n",
    "                                                                            test_size=0.2, \n",
    "                                                                            random_state = 1)\n",
    "print(X_train.shape)\n",
    "print(X_test.shape)\n",
    "print(y_train.shape)\n",
    "print(y_test.shape)"
   ]
  },
  {
   "cell_type": "code",
   "execution_count": 19,
   "metadata": {
    "scrolled": true
   },
   "outputs": [
    {
     "name": "stdout",
     "output_type": "stream",
     "text": [
      "Iteration 1, loss = 2196.46431666\n",
      "Iteration 2, loss = 2192.20285916\n",
      "Iteration 3, loss = 2187.98840671\n",
      "Iteration 4, loss = 2183.37962818\n",
      "Iteration 5, loss = 2178.08793714\n",
      "Iteration 6, loss = 2171.48022778\n",
      "Iteration 7, loss = 2163.38144425\n",
      "Iteration 8, loss = 2153.15669957\n",
      "Iteration 9, loss = 2140.36567202\n",
      "Iteration 10, loss = 2124.59113873\n",
      "Iteration 11, loss = 2105.08871150\n",
      "Iteration 12, loss = 2080.77313846\n",
      "Iteration 13, loss = 2050.47287731\n",
      "Iteration 14, loss = 2012.55861766\n",
      "Iteration 15, loss = 1965.40713116\n",
      "Iteration 16, loss = 1906.41205426\n",
      "Iteration 17, loss = 1832.97453435\n",
      "Iteration 18, loss = 1742.52905439\n",
      "Iteration 19, loss = 1630.76758341\n",
      "Iteration 20, loss = 1495.30047647\n",
      "Iteration 21, loss = 1334.51623054\n",
      "Iteration 22, loss = 1145.43494126\n",
      "Iteration 23, loss = 931.96247161\n",
      "Iteration 24, loss = 703.04161518\n",
      "Iteration 25, loss = 479.53627253\n",
      "Iteration 26, loss = 297.60973358\n",
      "Iteration 27, loss = 207.95209393\n",
      "Iteration 28, loss = 239.94811213\n",
      "Iteration 29, loss = 323.29713033\n",
      "Iteration 30, loss = 341.93593045\n",
      "Training loss did not improve more than tol=0.000100 for two consecutive epochs. Stopping.\n",
      "loss:  341.935930452\n",
      "Score:  -1.31501574975\n"
     ]
    }
   ],
   "source": [
    "model = MLPRegressor(hidden_layer_sizes=(50,50,50,50,50,50), solver='adam', verbose=True)\n",
    "model.fit(X_train, y_train)\n",
    "print('loss: ', model.loss_)\n",
    "score = model.score(X_test, y_test)\n",
    "print('Score: ', score)\n",
    "# R^2 is worse than larger dataset"
   ]
  },
  {
   "cell_type": "code",
   "execution_count": 20,
   "metadata": {},
   "outputs": [
    {
     "name": "stdout",
     "output_type": "stream",
     "text": [
      "feature shape : (8488, 3)\n",
      "labels shape : (8488, 4)\n",
      "(6790, 3)\n",
      "(1698, 3)\n",
      "(6790, 4)\n",
      "(1698, 4)\n"
     ]
    }
   ],
   "source": [
    "# preparing training\n",
    "features = df.iloc[:, 0:3]\n",
    "labels = df.iloc[:, 4:8]\n",
    "print('feature shape :', features.shape)\n",
    "print('labels shape :', labels.shape)\n",
    "\n",
    "X_train, X_test, y_train, y_test = sklearn.model_selection.train_test_split(features, labels, \n",
    "                                                                            test_size=0.2, \n",
    "                                                                            random_state = 1)\n",
    "print(X_train.shape)\n",
    "print(X_test.shape)\n",
    "print(y_train.shape)\n",
    "print(y_test.shape)"
   ]
  },
  {
   "cell_type": "code",
   "execution_count": 21,
   "metadata": {
    "scrolled": true
   },
   "outputs": [
    {
     "name": "stdout",
     "output_type": "stream",
     "text": [
      "Iteration 1, loss = 2153.94540602\n",
      "Iteration 2, loss = 1596.74227833\n",
      "Iteration 3, loss = 449.51122826\n",
      "Iteration 4, loss = 175.22995894\n",
      "Iteration 5, loss = 147.15281450\n",
      "Iteration 6, loss = 135.52766148\n",
      "Iteration 7, loss = 125.82726023\n",
      "Iteration 8, loss = 118.00451635\n",
      "Iteration 9, loss = 112.26410441\n",
      "Iteration 10, loss = 108.69481438\n",
      "Iteration 11, loss = 107.28701284\n",
      "Iteration 12, loss = 107.00339971\n",
      "Iteration 13, loss = 106.83486725\n",
      "Iteration 14, loss = 106.80187021\n",
      "Iteration 15, loss = 106.71765818\n",
      "Iteration 16, loss = 106.66983713\n",
      "Iteration 17, loss = 106.66333430\n",
      "Iteration 18, loss = 106.65106149\n",
      "Iteration 19, loss = 106.58194215\n",
      "Iteration 20, loss = 106.61364571\n",
      "Iteration 21, loss = 106.58059893\n",
      "Iteration 22, loss = 106.56013490\n",
      "Iteration 23, loss = 106.56958113\n",
      "Iteration 24, loss = 106.53221515\n",
      "Iteration 25, loss = 106.55074421\n",
      "Iteration 26, loss = 106.57366268\n",
      "Iteration 27, loss = 106.59811247\n",
      "Training loss did not improve more than tol=0.000100 for two consecutive epochs. Stopping.\n",
      "loss:  106.598112471\n",
      "Score:  0.00402649208899\n"
     ]
    }
   ],
   "source": [
    "model = MLPRegressor(hidden_layer_sizes=(50,100,50), solver='adam', verbose=True)\n",
    "model.fit(X_train, y_train)\n",
    "print('loss: ', model.loss_)\n",
    "score = model.score(X_test, y_test)\n",
    "print('Score: ', score)\n",
    "# R^2 score of original dataset is better than reduced dataset, possibly due to neuroticism correlation higher."
   ]
  },
  {
   "cell_type": "code",
   "execution_count": 50,
   "metadata": {},
   "outputs": [
    {
     "name": "stdout",
     "output_type": "stream",
     "text": [
      "<class 'pandas.core.frame.DataFrame'>\n",
      "Int64Index: 974 entries, 3 to 8358\n",
      "Data columns (total 6 columns):\n",
      "type                974 non-null object\n",
      "conscieniousness    974 non-null float64\n",
      "agreeable           974 non-null float64\n",
      "extraversion        974 non-null float64\n",
      "neuroticism         974 non-null float64\n",
      "openness            974 non-null float64\n",
      "dtypes: float64(5), object(1)\n",
      "memory usage: 53.3+ KB\n"
     ]
    }
   ],
   "source": [
    "# big 5 score range of each mbti type\n",
    "# RNN text to personality traits\n",
    "df2 = pd.read_csv(\"../dataset/mbti_big5_clean.csv\")\n",
    "df2 = df2[df2['extraversion'].str.contains('^\\d*\\.?\\d*$', na = False)]\n",
    "df2 = df2[df2['conscieniousness'].str.contains('^\\d*\\.?\\d*$', na = False)]\n",
    "df2 = df2[df2['agreeable'].str.contains('^\\d*\\.?\\d*$', na = False)]\n",
    "df2 = df2[df2['neuroticism'].str.contains('^\\d*\\.?\\d*$', na = False)]\n",
    "df2 = df2[df2['openness'].str.contains('^\\d*\\.?\\d*$', na = False)]\n",
    "df2['extraversion'] = df2['extraversion'].apply(pd.to_numeric)\n",
    "df2['conscieniousness'] = df2['conscieniousness'].apply(pd.to_numeric)\n",
    "df2['agreeable'] = df2['agreeable'].apply(pd.to_numeric)\n",
    "df2['neuroticism'] = df2['neuroticism'].apply(pd.to_numeric)\n",
    "df2['openness'] = df2['openness'].apply(pd.to_numeric)\n",
    "\n",
    "df_red2 = df2.head(8200)\n",
    "df_temp1 = df_red2.head(8200)\n",
    "df_temp1 = df_temp1[df_temp1['neuroticism']<80]\n",
    "df_temp2 = df_red2.iloc[8201:]\n",
    "df2 = df_temp1.append(df_temp2)\n",
    "\n",
    "df2.info()"
   ]
  },
  {
   "cell_type": "code",
   "execution_count": 51,
   "metadata": {},
   "outputs": [
    {
     "data": {
      "image/png": "[encoded data removed]",
      "text/plain": [
       "<matplotlib.figure.Figure at 0x1194677f0>"
      ]
     },
     "metadata": {},
     "output_type": "display_data"
    }
   ],
   "source": [
    "ax1 = sns.boxplot(x=\"type\", y=\"extraversion\", data=df2)\n",
    "plt.show()"
   ]
  },
  {
   "cell_type": "code",
   "execution_count": 52,
   "metadata": {},
   "outputs": [
    {
     "data": {
      "image/png": "[encoded data removed]",
      "text/plain": [
       "<matplotlib.figure.Figure at 0x10f1dd780>"
      ]
     },
     "metadata": {},
     "output_type": "display_data"
    }
   ],
   "source": [
    "ax2 = sns.boxplot(x=\"type\", y=\"agreeable\", data=df2)\n",
    "plt.show()"
   ]
  },
  {
   "cell_type": "code",
   "execution_count": 53,
   "metadata": {},
   "outputs": [
    {
     "data": {
      "image/png": "[encoded data removed]",
      "text/plain": [
       "<matplotlib.figure.Figure at 0x1194aceb8>"
      ]
     },
     "metadata": {},
     "output_type": "display_data"
    }
   ],
   "source": [
    "ax3 = sns.boxplot(x=\"type\", y=\"conscieniousness\", data=df2)\n",
    "plt.show()"
   ]
  },
  {
   "cell_type": "code",
   "execution_count": 54,
   "metadata": {},
   "outputs": [
    {
     "data": {
      "image/png": "[encoded data removed]",
      "text/plain": [
       "<matplotlib.figure.Figure at 0x1104909e8>"
      ]
     },
     "metadata": {},
     "output_type": "display_data"
    }
   ],
   "source": [
    "ax4 = sns.boxplot(x=\"type\", y=\"neuroticism\", data=df2)\n",
    "plt.show()"
   ]
  },
  {
   "cell_type": "code",
   "execution_count": 55,
   "metadata": {},
   "outputs": [
    {
     "data": {
      "image/png": "[encoded data removed]",
      "text/plain": [
       "<matplotlib.figure.Figure at 0x119807240>"
      ]
     },
     "metadata": {},
     "output_type": "display_data"
    }
   ],
   "source": [
    "ax5 = sns.boxplot(x=\"type\", y=\"openness\", data=df2)\n",
    "plt.show()"
   ]
  },
  {
   "cell_type": "code",
   "execution_count": 68,
   "metadata": {},
   "outputs": [
    {
     "name": "stdout",
     "output_type": "stream",
     "text": [
      "     conscieniousness  agreeable  extraversion  neuroticism   openness\n",
      "75%         58.886564  74.380373     54.984032    75.621698  80.006546\n",
      "25%         33.894785  59.695415     32.226462    57.994315  66.120118\n"
     ]
    }
   ],
   "source": [
    "temp = df2.loc[df2['type']=='ISTJ']\n",
    "temp = temp.describe()\n",
    "#temp = temp.loc[df2['25%', '75%']]\n",
    "print(temp.loc[{'25%','75%'}])"
   ]
  },
  {
   "cell_type": "code",
   "execution_count": 70,
   "metadata": {},
   "outputs": [
    {
     "name": "stdout",
     "output_type": "stream",
     "text": [
      "{'ISTJ':      conscieniousness  agreeable  extraversion  neuroticism   openness\n",
      "75%         58.886564  74.380373     54.984032    75.621698  80.006546\n",
      "25%         33.894785  59.695415     32.226462    57.994315  66.120118, 'ISFJ':      conscieniousness  agreeable  extraversion  neuroticism   openness\n",
      "75%         46.229723  80.754366     53.827427    72.868382  78.235369\n",
      "25%         26.350470  64.852975     34.019136    61.527105  66.345386, 'INFJ':      conscieniousness  agreeable  extraversion  neuroticism   openness\n",
      "75%         55.721780  76.448219     54.495715    76.777890  80.750981\n",
      "25%         32.861398  59.955331     30.439787    65.161842  65.993680, 'INTJ':      conscieniousness  agreeable  extraversion  neuroticism   openness\n",
      "75%         53.347772  74.280020     54.521510    75.650829  78.002030\n",
      "25%         32.962947  57.729641     29.510647    64.743814  61.676788, 'ISTP':      conscieniousness  agreeable  extraversion  neuroticism   openness\n",
      "75%         47.222518  75.549843     50.581517    77.312394  80.732600\n",
      "25%         22.708785  59.861652     33.834747    67.313927  61.717335, 'ISFP':      conscieniousness  agreeable  extraversion  neuroticism   openness\n",
      "75%         50.831581  78.510235     59.369696    73.925408  85.004171\n",
      "25%         23.001377  64.497949     31.740552    57.447885  74.110253, 'INFP':      conscieniousness  agreeable  extraversion  neuroticism   openness\n",
      "75%         53.152714  74.602722     50.982115    76.675702  83.995362\n",
      "25%         32.960839  57.908801     29.446929    64.582062  66.270329, 'INTP':      conscieniousness  agreeable  extraversion  neuroticism   openness\n",
      "75%         55.737859  74.426041     53.229769    76.057411  81.448080\n",
      "25%         29.652094  56.650664     33.679171    63.576588  60.908487, 'ESTJ':      conscieniousness  agreeable  extraversion  neuroticism  openness\n",
      "75%         56.005603  74.085396     52.818865    77.607703  77.00808\n",
      "25%         30.755100  52.667981     27.588830    75.994935  63.74446, 'ESFJ':      conscieniousness  agreeable  extraversion  neuroticism   openness\n",
      "75%         50.091440  77.852821     61.206145    77.924180  85.225721\n",
      "25%         39.054171  72.433362     42.235028    77.195512  68.840379, 'ENFJ':      conscieniousness  agreeable  extraversion  neuroticism   openness\n",
      "75%         67.276336  76.489954     62.329943    76.436352  81.301394\n",
      "25%         38.568150  63.975177     35.742862    60.109340  65.155788, 'ENTJ':      conscieniousness  agreeable  extraversion  neuroticism   openness\n",
      "75%         58.525948  74.015698     62.015278    76.057771  82.958612\n",
      "25%         31.257346  58.700294     37.251313    60.318189  59.890676, 'ESTP':      conscieniousness  agreeable  extraversion  neuroticism   openness\n",
      "75%         45.061853  75.255771     47.229506    77.958654  77.876395\n",
      "25%         19.649935  61.933812     34.841117    70.797654  74.377959, 'ESFP':      conscieniousness  agreeable  extraversion  neuroticism   openness\n",
      "75%         48.415361  69.342056     56.403922    75.037773  79.575099\n",
      "25%         25.735078  63.221185     47.703723    71.805341  67.086658, 'ENFP':      conscieniousness  agreeable  extraversion  neuroticism   openness\n",
      "75%         54.611602  76.677421     55.648539    77.712080  83.346702\n",
      "25%         30.909588  60.888539     31.442247    66.691591  64.448899, 'ENTP':      conscieniousness  agreeable  extraversion  neuroticism   openness\n",
      "75%         53.341407  73.350066     57.624997    77.802880  76.252626\n",
      "25%         31.365354  57.067863     37.761643    68.289339  52.863952}\n"
     ]
    }
   ],
   "source": [
    "# each mbti score looks like have a fair range of big 5 scores\n",
    "mbti_ls = ['ISTJ', 'ISFJ', 'INFJ', 'INTJ', 'ISTP','ISFP','INFP', 'INTP', \n",
    "           'ESTJ', 'ESFJ', 'ENFJ', 'ENTJ', 'ESTP', 'ESFP', 'ENFP', 'ENTP']\n",
    "mbti_big5 = {}\n",
    "for mbti in mbti_ls:\n",
    "    df_temp = df2.loc[df2['type']==mbti]\n",
    "    df_temp = df_temp.describe()\n",
    "    df_temp = df_temp.loc[{'25%', '75%'}]\n",
    "    mbti_big5[mbti] = df_temp\n",
    "                             \n",
    "print(mbti_big5)"
   ]
  }
 ],
 "metadata": {
  "kernelspec": {
   "display_name": "Python 3",
   "language": "python",
   "name": "python3"
  },
  "language_info": {
   "codemirror_mode": {
    "name": "ipython",
    "version": 3
   },
   "file_extension": ".py",
   "mimetype": "text/x-python",
   "name": "python",
   "nbconvert_exporter": "python",
   "pygments_lexer": "ipython3",
   "version": "3.6.1"
  }
 },
 "nbformat": 4,
 "nbformat_minor": 2
}
