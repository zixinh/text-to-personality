{
 "cells": [
  {
   "cell_type": "code",
   "execution_count": 1,
   "metadata": {
    "collapsed": true
   },
   "outputs": [],
   "source": [
    "import numpy as np\n",
    "import pandas as pd\n",
    "import pickle\n",
    "import sklearn\n",
    "import seaborn as sns\n",
    "import matplotlib.pyplot as plt"
   ]
  },
  {
   "cell_type": "code",
   "execution_count": 2,
   "metadata": {},
   "outputs": [
    {
     "name": "stdout",
     "output_type": "stream",
     "text": [
      "(8672, 6)\n"
     ]
    },
    {
     "data": {
      "text/html": [
       "<div>\n",
       "<style scoped>\n",
       "    .dataframe tbody tr th:only-of-type {\n",
       "        vertical-align: middle;\n",
       "    }\n",
       "\n",
       "    .dataframe tbody tr th {\n",
       "        vertical-align: top;\n",
       "    }\n",
       "\n",
       "    .dataframe thead th {\n",
       "        text-align: right;\n",
       "    }\n",
       "</style>\n",
       "<table border=\"1\" class=\"dataframe\">\n",
       "  <thead>\n",
       "    <tr style=\"text-align: right;\">\n",
       "      <th></th>\n",
       "      <th>type</th>\n",
       "      <th>conscieniousness</th>\n",
       "      <th>agreeable</th>\n",
       "      <th>extraversion</th>\n",
       "      <th>neuroticism</th>\n",
       "      <th>openness</th>\n",
       "    </tr>\n",
       "  </thead>\n",
       "  <tbody>\n",
       "    <tr>\n",
       "      <th>0</th>\n",
       "      <td>INFJ</td>\n",
       "      <td>43.52417819</td>\n",
       "      <td>58.68915806</td>\n",
       "      <td>an</td>\n",
       "      <td>95.56853657</td>\n",
       "      <td>68.2717645</td>\n",
       "    </tr>\n",
       "    <tr>\n",
       "      <th>1</th>\n",
       "      <td>INFJ</td>\n",
       "      <td>50.22031973</td>\n",
       "      <td>57.71273046</td>\n",
       "      <td>20.2788891</td>\n",
       "      <td>85.88187978</td>\n",
       "      <td>75.60278174</td>\n",
       "    </tr>\n",
       "    <tr>\n",
       "      <th>2</th>\n",
       "      <td>ENTP</td>\n",
       "      <td>37.61441377</td>\n",
       "      <td>53.04986179</td>\n",
       "      <td>19.2923702</td>\n",
       "      <td>97.24779521</td>\n",
       "      <td>76.6872109</td>\n",
       "    </tr>\n",
       "    <tr>\n",
       "      <th>3</th>\n",
       "      <td>INTP</td>\n",
       "      <td>55.88302211</td>\n",
       "      <td>62.36175274</td>\n",
       "      <td>33.68039782</td>\n",
       "      <td>77.35532718</td>\n",
       "      <td>73.16256345</td>\n",
       "    </tr>\n",
       "    <tr>\n",
       "      <th>4</th>\n",
       "      <td>INTJ</td>\n",
       "      <td>21.39582754</td>\n",
       "      <td>70.408671</td>\n",
       "      <td>56.05826003</td>\n",
       "      <td>89.56679917</td>\n",
       "      <td>72.92137874</td>\n",
       "    </tr>\n",
       "  </tbody>\n",
       "</table>\n",
       "</div>"
      ],
      "text/plain": [
       "   type conscieniousness    agreeable extraversion  neuroticism     openness\n",
       "0  INFJ      43.52417819  58.68915806           an  95.56853657   68.2717645\n",
       "1  INFJ      50.22031973  57.71273046   20.2788891  85.88187978  75.60278174\n",
       "2  ENTP      37.61441377  53.04986179   19.2923702  97.24779521   76.6872109\n",
       "3  INTP      55.88302211  62.36175274  33.68039782  77.35532718  73.16256345\n",
       "4  INTJ      21.39582754    70.408671  56.05826003  89.56679917  72.92137874"
      ]
     },
     "execution_count": 2,
     "metadata": {},
     "output_type": "execute_result"
    }
   ],
   "source": [
    "#import dataset and see how it looks like\n",
    "df = pd.read_csv(\"../dataset/mbti_big5_clean.csv\")\n",
    "print(df.shape)\n",
    "df.head()\n"
   ]
  },
  {
   "cell_type": "code",
   "execution_count": 3,
   "metadata": {},
   "outputs": [
    {
     "data": {
      "text/html": [
       "<div>\n",
       "<style scoped>\n",
       "    .dataframe tbody tr th:only-of-type {\n",
       "        vertical-align: middle;\n",
       "    }\n",
       "\n",
       "    .dataframe tbody tr th {\n",
       "        vertical-align: top;\n",
       "    }\n",
       "\n",
       "    .dataframe thead th {\n",
       "        text-align: right;\n",
       "    }\n",
       "</style>\n",
       "<table border=\"1\" class=\"dataframe\">\n",
       "  <thead>\n",
       "    <tr style=\"text-align: right;\">\n",
       "      <th></th>\n",
       "      <th>type</th>\n",
       "      <th>conscieniousness</th>\n",
       "      <th>agreeable</th>\n",
       "      <th>extraversion</th>\n",
       "      <th>neuroticism</th>\n",
       "      <th>openness</th>\n",
       "    </tr>\n",
       "  </thead>\n",
       "  <tbody>\n",
       "    <tr>\n",
       "      <th>1</th>\n",
       "      <td>INFJ</td>\n",
       "      <td>50.22031973</td>\n",
       "      <td>57.71273046</td>\n",
       "      <td>20.2788891</td>\n",
       "      <td>85.88187978</td>\n",
       "      <td>75.60278174</td>\n",
       "    </tr>\n",
       "    <tr>\n",
       "      <th>2</th>\n",
       "      <td>ENTP</td>\n",
       "      <td>37.61441377</td>\n",
       "      <td>53.04986179</td>\n",
       "      <td>19.2923702</td>\n",
       "      <td>97.24779521</td>\n",
       "      <td>76.6872109</td>\n",
       "    </tr>\n",
       "    <tr>\n",
       "      <th>3</th>\n",
       "      <td>INTP</td>\n",
       "      <td>55.88302211</td>\n",
       "      <td>62.36175274</td>\n",
       "      <td>33.68039782</td>\n",
       "      <td>77.35532718</td>\n",
       "      <td>73.16256345</td>\n",
       "    </tr>\n",
       "    <tr>\n",
       "      <th>4</th>\n",
       "      <td>INTJ</td>\n",
       "      <td>21.39582754</td>\n",
       "      <td>70.408671</td>\n",
       "      <td>56.05826003</td>\n",
       "      <td>89.56679917</td>\n",
       "      <td>72.92137874</td>\n",
       "    </tr>\n",
       "    <tr>\n",
       "      <th>5</th>\n",
       "      <td>ENTJ</td>\n",
       "      <td>15.7368388</td>\n",
       "      <td>47.37946064</td>\n",
       "      <td>55.7772194</td>\n",
       "      <td>96.28591317</td>\n",
       "      <td>69.24075453</td>\n",
       "    </tr>\n",
       "  </tbody>\n",
       "</table>\n",
       "</div>"
      ],
      "text/plain": [
       "   type conscieniousness    agreeable extraversion  neuroticism     openness\n",
       "1  INFJ      50.22031973  57.71273046   20.2788891  85.88187978  75.60278174\n",
       "2  ENTP      37.61441377  53.04986179   19.2923702  97.24779521   76.6872109\n",
       "3  INTP      55.88302211  62.36175274  33.68039782  77.35532718  73.16256345\n",
       "4  INTJ      21.39582754    70.408671  56.05826003  89.56679917  72.92137874\n",
       "5  ENTJ       15.7368388  47.37946064   55.7772194  96.28591317  69.24075453"
      ]
     },
     "execution_count": 3,
     "metadata": {},
     "output_type": "execute_result"
    }
   ],
   "source": [
    "# some sample has texts data\n",
    "mask = df['extraversion'].str.contains('^\\d*\\.?\\d*$', na = False)\n",
    "df = df[mask]\n",
    "df.head()"
   ]
  },
  {
   "cell_type": "code",
   "execution_count": 4,
   "metadata": {
    "collapsed": true
   },
   "outputs": [],
   "source": [
    "# remove samples has text data on other traits\n",
    "df = df[df['conscieniousness'].str.contains('^\\d*\\.?\\d*$', na = False)]\n",
    "df = df[df['agreeable'].str.contains('^\\d*\\.?\\d*$', na = False)]\n",
    "df = df[df['neuroticism'].str.contains('^\\d*\\.?\\d*$', na = False)]\n",
    "df = df[df['openness'].str.contains('^\\d*\\.?\\d*$', na = False)]"
   ]
  },
  {
   "cell_type": "code",
   "execution_count": 5,
   "metadata": {},
   "outputs": [
    {
     "data": {
      "text/html": [
       "<div>\n",
       "<style scoped>\n",
       "    .dataframe tbody tr th:only-of-type {\n",
       "        vertical-align: middle;\n",
       "    }\n",
       "\n",
       "    .dataframe tbody tr th {\n",
       "        vertical-align: top;\n",
       "    }\n",
       "\n",
       "    .dataframe thead th {\n",
       "        text-align: right;\n",
       "    }\n",
       "</style>\n",
       "<table border=\"1\" class=\"dataframe\">\n",
       "  <thead>\n",
       "    <tr style=\"text-align: right;\">\n",
       "      <th></th>\n",
       "      <th>type</th>\n",
       "      <th>conscieniousness</th>\n",
       "      <th>agreeable</th>\n",
       "      <th>extraversion</th>\n",
       "      <th>neuroticism</th>\n",
       "      <th>openness</th>\n",
       "    </tr>\n",
       "  </thead>\n",
       "  <tbody>\n",
       "    <tr>\n",
       "      <th>1</th>\n",
       "      <td>7</td>\n",
       "      <td>50.22031973</td>\n",
       "      <td>57.71273046</td>\n",
       "      <td>20.2788891</td>\n",
       "      <td>85.88187978</td>\n",
       "      <td>75.60278174</td>\n",
       "    </tr>\n",
       "    <tr>\n",
       "      <th>2</th>\n",
       "      <td>14</td>\n",
       "      <td>37.61441377</td>\n",
       "      <td>53.04986179</td>\n",
       "      <td>19.2923702</td>\n",
       "      <td>97.24779521</td>\n",
       "      <td>76.6872109</td>\n",
       "    </tr>\n",
       "    <tr>\n",
       "      <th>3</th>\n",
       "      <td>6</td>\n",
       "      <td>55.88302211</td>\n",
       "      <td>62.36175274</td>\n",
       "      <td>33.68039782</td>\n",
       "      <td>77.35532718</td>\n",
       "      <td>73.16256345</td>\n",
       "    </tr>\n",
       "    <tr>\n",
       "      <th>4</th>\n",
       "      <td>5</td>\n",
       "      <td>21.39582754</td>\n",
       "      <td>70.408671</td>\n",
       "      <td>56.05826003</td>\n",
       "      <td>89.56679917</td>\n",
       "      <td>72.92137874</td>\n",
       "    </tr>\n",
       "    <tr>\n",
       "      <th>5</th>\n",
       "      <td>13</td>\n",
       "      <td>15.7368388</td>\n",
       "      <td>47.37946064</td>\n",
       "      <td>55.7772194</td>\n",
       "      <td>96.28591317</td>\n",
       "      <td>69.24075453</td>\n",
       "    </tr>\n",
       "  </tbody>\n",
       "</table>\n",
       "</div>"
      ],
      "text/plain": [
       "   type conscieniousness    agreeable extraversion  neuroticism     openness\n",
       "1     7      50.22031973  57.71273046   20.2788891  85.88187978  75.60278174\n",
       "2    14      37.61441377  53.04986179   19.2923702  97.24779521   76.6872109\n",
       "3     6      55.88302211  62.36175274  33.68039782  77.35532718  73.16256345\n",
       "4     5      21.39582754    70.408671  56.05826003  89.56679917  72.92137874\n",
       "5    13       15.7368388  47.37946064   55.7772194  96.28591317  69.24075453"
      ]
     },
     "execution_count": 5,
     "metadata": {},
     "output_type": "execute_result"
    }
   ],
   "source": [
    "# transfer mbti to integers\n",
    "mbti_dict = {'ISTJ':1, 'ISTP':2, 'ISFJ':3, 'ISFP':4, 'INTJ':5, 'INTP':6, 'INFJ':7, 'INFP':8,\n",
    "             'ESTJ':9, 'ESTP':10, 'ESFJ':11, 'ESFP':12, 'ENTJ':13, 'ENTP':14, 'ENFJ':15, 'ENFP':16}\n",
    "mbti_dict_back = {v: k for k, v in mbti_dict.items()}\n",
    "\n",
    "df['type'] = df['type'].apply(lambda x: mbti_dict[x])\n",
    "df.head()"
   ]
  },
  {
   "cell_type": "code",
   "execution_count": 6,
   "metadata": {},
   "outputs": [
    {
     "data": {
      "text/plain": [
       "type                  int64\n",
       "conscieniousness    float64\n",
       "agreeable           float64\n",
       "extraversion        float64\n",
       "neuroticism         float64\n",
       "openness            float64\n",
       "dtype: object"
      ]
     },
     "execution_count": 6,
     "metadata": {},
     "output_type": "execute_result"
    }
   ],
   "source": [
    "# unify datatypes\n",
    "df = df.apply(pd.to_numeric)\n",
    "df.dtypes"
   ]
  },
  {
   "cell_type": "code",
   "execution_count": 7,
   "metadata": {},
   "outputs": [
    {
     "name": "stdout",
     "output_type": "stream",
     "text": [
      "      conscieniousness  agreeable  extraversion  neuroticism   openness\n",
      "type                                                                   \n",
      "1            41.730087  50.860979     34.038727    89.025383  65.077677\n",
      "2            27.808481  48.100595     36.118409    91.901227  71.095501\n",
      "3            40.801885  51.077550     32.889770    90.464744  66.273595\n",
      "4            34.897305  53.886507     34.763556    89.801703  72.359709\n",
      "5            36.332027  51.326485     35.286357    90.458846  67.900300\n",
      "6            32.158812  50.642141     34.474338    90.423509  69.767881\n",
      "7            37.674599  50.917706     33.883986    91.106848  69.182739\n",
      "8            35.507266  48.731156     31.368062    92.426896  71.521649\n",
      "9            42.122198  56.118490     36.993981    90.735260  64.018426\n",
      "10           24.792950  51.452587     39.613595    92.377139  71.204205\n",
      "11           41.952450  58.713643     36.821596    91.048323  64.395185\n",
      "12           29.729929  57.112214     38.753065    90.655316  76.667548\n",
      "13           37.585204  48.953162     39.074726    90.914676  65.951147\n",
      "14           29.153306  49.755813     39.791999    92.479378  68.895025\n",
      "15           37.643112  53.324633     37.107266    91.848493  68.297266\n",
      "16           34.655193  52.723654     37.203531    92.086121  70.253416\n",
      "      conscieniousness  agreeable  extraversion  neuroticism   openness\n",
      "type                                                                   \n",
      "1            17.253713  16.189569     15.406410    11.761507  14.013965\n",
      "2            17.099972  16.363912     15.924868    10.733793  13.702713\n",
      "3            18.967118  15.575434     17.244154    13.082754  13.369093\n",
      "4            17.579597  16.070327     18.055832    12.526431  13.233865\n",
      "5            17.722792  14.934564     15.221279    10.647412  14.754310\n",
      "6            17.710396  15.568972     15.720726    11.331488  14.455997\n",
      "7            16.525180  15.691337     15.886095    10.180787  13.068438\n",
      "8            17.157536  15.786926     16.099703     9.491913  13.220164\n",
      "9            18.644034  12.446056     15.190952     7.400971  15.134376\n",
      "10           16.073501  14.887147     16.340967     9.123265  12.240984\n",
      "11           16.524875  12.426117     15.969777     6.759228  16.494979\n",
      "12           18.306152  15.989456     15.606323     9.024527  11.870152\n",
      "13           18.851619  16.007047     16.234574    11.012714  14.603483\n",
      "14           17.215812  15.040611     15.672369     8.404345  14.368383\n",
      "15           18.927009  14.641823     16.475195    10.833847  14.370611\n",
      "16           17.190486  15.048825     16.600990     8.979122  14.144151\n"
     ]
    }
   ],
   "source": [
    "# see how data look like\n",
    "print(df.groupby('type').agg('mean'))\n",
    "print(df.groupby('type').agg('std'))"
   ]
  },
  {
   "cell_type": "code",
   "execution_count": 8,
   "metadata": {},
   "outputs": [
    {
     "name": "stdout",
     "output_type": "stream",
     "text": [
      "<class 'pandas.core.frame.DataFrame'>\n",
      "Int64Index: 961 entries, 3 to 8175\n",
      "Data columns (total 6 columns):\n",
      "type                961 non-null int64\n",
      "conscieniousness    961 non-null float64\n",
      "agreeable           961 non-null float64\n",
      "extraversion        961 non-null float64\n",
      "neuroticism         961 non-null float64\n",
      "openness            961 non-null float64\n",
      "dtypes: float64(5), int64(1)\n",
      "memory usage: 52.6 KB\n",
      "<class 'pandas.core.frame.DataFrame'>\n",
      "Int64Index: 1448 entries, 3 to 8671\n",
      "Data columns (total 6 columns):\n",
      "type                1448 non-null int64\n",
      "conscieniousness    1448 non-null float64\n",
      "agreeable           1448 non-null float64\n",
      "extraversion        1448 non-null float64\n",
      "neuroticism         1448 non-null float64\n",
      "openness            1448 non-null float64\n",
      "dtypes: float64(5), int64(1)\n",
      "memory usage: 79.2 KB\n"
     ]
    }
   ],
   "source": [
    "# the text of mbti dataset were collected from posts in 'personality cafe' forum, therefore,\n",
    "# content in this type of psychology forum is highly possible relating to words with neuroticism.\n",
    "# for a less noise distribution, i decided to delete some of samples that has neuroticism 90+\n",
    "df_red = df.head(8000)\n",
    "df_red = df_red[df_red['neuroticism']<80]\n",
    "df_red.info()\n",
    "df_temp = df.iloc[8001:]\n",
    "df_red = df_red.append(df_temp)\n",
    "df_red.info()\n",
    "# 961/1448 around 0.7"
   ]
  },
  {
   "cell_type": "code",
   "execution_count": 9,
   "metadata": {},
   "outputs": [
    {
     "name": "stdout",
     "output_type": "stream",
     "text": [
      "      conscieniousness  agreeable  extraversion  neuroticism   openness\n",
      "type                                                                   \n",
      "1            42.463145  62.022803     41.726775    75.035623  69.419456\n",
      "2            33.256361  61.949451     40.174606    77.039217  71.484635\n",
      "3            39.684852  65.028596     41.350999    71.130012  71.596869\n",
      "4            37.097229  63.507303     40.402421    73.894163  74.220937\n",
      "5            41.865362  60.366819     39.867396    75.469925  69.116419\n",
      "6            39.935593  61.762293     40.911610    74.660269  70.225174\n",
      "7            40.928856  62.808752     40.508283    76.115244  72.239287\n",
      "8            40.318154  59.568035     37.645850    77.771208  73.672982\n",
      "9            47.221480  62.147666     36.643012    79.929114  70.141423\n",
      "10           28.121199  62.827843     39.534078    77.239977  71.580613\n",
      "11           49.951791  67.038756     42.362289    84.682389  67.317374\n",
      "12           35.627939  64.018578     47.842211    76.487859  74.319998\n",
      "13           42.592218  59.818317     47.583992    73.794249  68.338943\n",
      "14           36.249873  59.615707     42.766156    80.523491  67.771831\n",
      "15           44.974173  64.055677     47.362828    74.524053  72.143578\n",
      "16           39.741062  61.298281     39.208726    79.144018  70.684321\n",
      "      conscieniousness  agreeable  extraversion  neuroticism   openness\n",
      "type                                                                   \n",
      "1            15.886814  13.801384     17.220064    15.962524  13.294457\n",
      "2            18.751178  15.422276     15.609997    16.303736  14.334707\n",
      "3            18.295574  17.645645     18.150688    23.499311  10.736469\n",
      "4            19.352634  16.915870     21.108076    18.092765  15.285333\n",
      "5            17.182178  15.113385     16.939074    15.102995  14.017437\n",
      "6            18.451747  14.160083     15.331877    14.906639  15.383005\n",
      "7            17.019046  14.886711     16.265163    14.673040  12.715925\n",
      "8            17.016132  15.967659     17.383666    15.127570  13.045510\n",
      "9            27.941490  14.029939     19.498424     6.432724  12.206138\n",
      "10           17.646447  13.563955     14.786934    12.568471   7.973316\n",
      "11           10.389086  13.034781     21.306843     8.818394  15.359685\n",
      "12           20.674673   8.508331     13.631978     9.085052  11.633362\n",
      "13           15.931528  17.558933     18.604898    15.824502  15.238957\n",
      "14           15.999947  13.911016     16.498613    12.738406  13.889808\n",
      "15           21.869369  14.967086     19.738418    17.155650  13.344685\n",
      "16           17.610770  16.442108     16.669306    13.048925  14.583950\n"
     ]
    }
   ],
   "source": [
    "print(df_red.groupby('type').agg('mean'))\n",
    "print(df_red.groupby('type').agg('std'))"
   ]
  },
  {
   "cell_type": "code",
   "execution_count": null,
   "metadata": {
    "collapsed": true
   },
   "outputs": [],
   "source": [
    "# preparing training\n"
   ]
  },
  {
   "cell_type": "code",
   "execution_count": 10,
   "metadata": {
    "collapsed": true
   },
   "outputs": [],
   "source": [
    "# preprocess the data\n",
    "# 1. delete unrelated samples\n",
    "# 2. transfer mbti types to integers\n",
    "# Visualization of data\n",
    "# model set up\n",
    "# 1. train/test/cross-validation\n",
    "# \n",
    "# training\n",
    "# test\n",
    "\n",
    "#most neuroticism score 90%+\n",
    "#since the dataset is unnecessaryly huge, delete some of 90+, and remain some of work"
   ]
  }
 ],
 "metadata": {
  "kernelspec": {
   "display_name": "Python 3",
   "language": "python",
   "name": "python3"
  },
  "language_info": {
   "codemirror_mode": {
    "name": "ipython",
    "version": 3
   },
   "file_extension": ".py",
   "mimetype": "text/x-python",
   "name": "python",
   "nbconvert_exporter": "python",
   "pygments_lexer": "ipython3",
   "version": "3.6.1"
  }
 },
 "nbformat": 4,
 "nbformat_minor": 2
}
